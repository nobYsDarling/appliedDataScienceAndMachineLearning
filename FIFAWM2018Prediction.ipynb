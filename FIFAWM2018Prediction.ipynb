{
 "cells": [
  {
   "cell_type": "markdown",
   "metadata": {},
   "source": [
    "# Imports"
   ]
  },
  {
   "cell_type": "code",
   "execution_count": 1,
   "metadata": {},
   "outputs": [],
   "source": [
    "import warnings\n",
    "warnings.filterwarnings('ignore')\n",
    "warnings.simplefilter('ignore')\n",
    "\n",
    "import pandas as pd\n",
    "import numpy as np\n",
    "import scipy as sp\n",
    "import itertools\n",
    "import matplotlib.pyplot as plt\n",
    "\n",
    "from sklearn.model_selection import train_test_split, cross_val_score\n",
    "from sklearn.neural_network import MLPClassifier\n",
    "from sklearn.neighbors import KNeighborsClassifier\n",
    "from sklearn.svm import SVC, LinearSVC, NuSVC\n",
    "from sklearn.tree import DecisionTreeClassifier\n",
    "from sklearn.ensemble import RandomTreesEmbedding, VotingClassifier, RandomForestClassifier, AdaBoostClassifier, ExtraTreesClassifier, BaggingClassifier, GradientBoostingClassifier\n",
    "\n",
    "from sklearn.linear_model import LogisticRegression\n",
    "from sklearn.naive_bayes import GaussianNB\n",
    "from sklearn.metrics import confusion_matrix, accuracy_score\n",
    "\n",
    "types = {k: np.int32 for k in range(21515)}"
   ]
  },
  {
   "cell_type": "markdown",
   "metadata": {},
   "source": [
    "# Datensätze"
   ]
  },
  {
   "cell_type": "markdown",
   "metadata": {},
   "source": [
    "LineUp mit Spielernamen"
   ]
  },
  {
   "cell_type": "code",
   "execution_count": null,
   "metadata": {},
   "outputs": [],
   "source": [
    "fifa_names = pd.read_csv(\"data/data_names.csv\", encoding='utf8', index_col=None, header=None)"
   ]
  },
  {
   "cell_type": "code",
   "execution_count": null,
   "metadata": {},
   "outputs": [],
   "source": [
    "fifa_names.head()"
   ]
  },
  {
   "cell_type": "code",
   "execution_count": null,
   "metadata": {},
   "outputs": [],
   "source": [
    "fifa_names.drop([0], axis=1)"
   ]
  },
  {
   "cell_type": "code",
   "execution_count": null,
   "metadata": {},
   "outputs": [],
   "source": [
    "fifa_names.loc[:,1:11]"
   ]
  },
  {
   "cell_type": "code",
   "execution_count": null,
   "metadata": {
    "scrolled": true
   },
   "outputs": [],
   "source": [
    "fifa_names.loc[:,12:22]"
   ]
  },
  {
   "cell_type": "code",
   "execution_count": null,
   "metadata": {
    "scrolled": true
   },
   "outputs": [],
   "source": [
    "fifa_names.loc[:,23]"
   ]
  },
  {
   "cell_type": "markdown",
   "metadata": {},
   "source": [
    "LineUp mit Spieler IDs"
   ]
  },
  {
   "cell_type": "code",
   "execution_count": null,
   "metadata": {},
   "outputs": [],
   "source": [
    "fifa_simple = pd.read_csv(\"data/data_simple_train.csv\", encoding='utf8', dtype=types, index_col=None, header=None)"
   ]
  },
  {
   "cell_type": "code",
   "execution_count": null,
   "metadata": {},
   "outputs": [],
   "source": [
    "fifa_simple.head()"
   ]
  },
  {
   "cell_type": "markdown",
   "metadata": {},
   "source": [
    "LineUp alle Spieler gegen alle Spieler (1: nimmt teil, 0: nimmt nicht teil)"
   ]
  },
  {
   "cell_type": "code",
   "execution_count": 2,
   "metadata": {},
   "outputs": [],
   "source": [
    "fifa_complex = pd.read_csv(\"data/data_complex_train.csv\", encoding='utf8', dtype=types, index_col=None, header=None)"
   ]
  },
  {
   "cell_type": "code",
   "execution_count": null,
   "metadata": {},
   "outputs": [],
   "source": [
    "fifa_complex.head()"
   ]
  },
  {
   "cell_type": "code",
   "execution_count": null,
   "metadata": {
    "scrolled": true
   },
   "outputs": [],
   "source": [
    "fifa_complex.loc[:,100:120]"
   ]
  },
  {
   "cell_type": "code",
   "execution_count": null,
   "metadata": {
    "scrolled": true
   },
   "outputs": [],
   "source": [
    "fifa_complex.loc[:,5535:5558]"
   ]
  },
  {
   "cell_type": "code",
   "execution_count": null,
   "metadata": {},
   "outputs": [],
   "source": [
    "row = 0\n",
    "\n",
    "home = 0\n",
    "away = 0\n",
    "for column in range(1,10758):\n",
    "    if (fifa_complex.loc[row,column] == 1):\n",
    "        home += 1\n",
    "    if (fifa_complex.loc[row,column + 10756] == 1):\n",
    "        away += 1\n",
    "        \n",
    "print(\"Row\", row,\":\")\n",
    "print(\"Homeplayer:\", home)\n",
    "print(\"Awayplayer:\", away)"
   ]
  },
  {
   "cell_type": "markdown",
   "metadata": {},
   "source": [
    "# Feature Set, Sparse Matrix und Train/Test Split"
   ]
  },
  {
   "cell_type": "code",
   "execution_count": 3,
   "metadata": {},
   "outputs": [],
   "source": [
    "feature = fifa_complex.drop([0,21515], axis=1).values\n",
    "target = fifa_complex[21515].values\n",
    "\n",
    "feature_csc = sp.sparse.csc_matrix(feature)\n",
    "feature_csr = sp.sparse.csr_matrix(feature)"
   ]
  },
  {
   "cell_type": "code",
   "execution_count": null,
   "metadata": {
    "scrolled": true
   },
   "outputs": [],
   "source": [
    "print(feature_csc)"
   ]
  },
  {
   "cell_type": "code",
   "execution_count": null,
   "metadata": {
    "scrolled": true
   },
   "outputs": [],
   "source": [
    "print(feature_csr)"
   ]
  },
  {
   "cell_type": "code",
   "execution_count": 4,
   "metadata": {},
   "outputs": [
    {
     "name": "stdout",
     "output_type": "stream",
     "text": [
      "5170\n",
      "1293\n"
     ]
    }
   ],
   "source": [
    "X_train, X_test, y_train, y_test = train_test_split(feature_csr, target, test_size=0.2)\n",
    "print(X_train.shape[0])\n",
    "print(X_test.shape[0])"
   ]
  },
  {
   "cell_type": "markdown",
   "metadata": {},
   "source": [
    "# Classifier Vergleich"
   ]
  },
  {
   "cell_type": "code",
   "execution_count": null,
   "metadata": {},
   "outputs": [],
   "source": [
    "classifiers = [\n",
    "    LinearSVC(),\n",
    "    SVC(),\n",
    "    NuSVC(),\n",
    "    DecisionTreeClassifier(),\n",
    "    KNeighborsClassifier(),\n",
    "    RandomForestClassifier(),\n",
    "    AdaBoostClassifier(),\n",
    "    ExtraTreesClassifier(),\n",
    "    BaggingClassifier(),\n",
    "    GradientBoostingClassifier()\n",
    "]"
   ]
  },
  {
   "cell_type": "code",
   "execution_count": null,
   "metadata": {
    "scrolled": true
   },
   "outputs": [],
   "source": [
    "for i, clf in enumerate(classifiers):\n",
    "    c = clf.fit(X_train, y_train)\n",
    "    scores = clf.score(X_test, y_test)\n",
    "    print(\"Richtigkeit: %0.3f [%s]\" % (scores.mean(), type(c).__name__))"
   ]
  },
  {
   "cell_type": "markdown",
   "metadata": {},
   "source": [
    "# Bewertung und Darstellung der Ergebnisse"
   ]
  },
  {
   "cell_type": "markdown",
   "metadata": {},
   "source": [
    "Decision Trees"
   ]
  },
  {
   "cell_type": "code",
   "execution_count": null,
   "metadata": {},
   "outputs": [],
   "source": [
    "classifierDecisionTree = [\n",
    "    DecisionTreeClassifier(criterion='gini'), #default\n",
    "    DecisionTreeClassifier(criterion='entropy'),\n",
    "    DecisionTreeClassifier(splitter='best'), #default\n",
    "    DecisionTreeClassifier(splitter='random'),\n",
    "    DecisionTreeClassifier(class_weight='balanced'),\n",
    "    DecisionTreeClassifier(max_depth=2),\n",
    "    DecisionTreeClassifier(max_depth=4),\n",
    "    DecisionTreeClassifier(max_depth=6),\n",
    "    DecisionTreeClassifier(max_depth=8)\n",
    "]"
   ]
  },
  {
   "cell_type": "code",
   "execution_count": null,
   "metadata": {},
   "outputs": [],
   "source": [
    "for i, clf in enumerate(classifierDecisionTree):\n",
    "    c = clf.fit(X_train, y_train)\n",
    "    scores = clf.score(X_test, y_test)\n",
    "    print(\"Richtigkeit: %0.3f [%s]\" % (scores.mean(), type(c).__name__))"
   ]
  },
  {
   "cell_type": "markdown",
   "metadata": {},
   "source": [
    "Support Vector Machines"
   ]
  },
  {
   "cell_type": "code",
   "execution_count": null,
   "metadata": {},
   "outputs": [],
   "source": [
    "classifierSVMs = [\n",
    "    LinearSVC(),\n",
    "    SVC(kernel='linear'),\n",
    "    SVC(kernel='poly'),\n",
    "    SVC(kernel='rbf'), #default\n",
    "    SVC(kernel='sigmoid'),\n",
    "    #SVC(kernel='precomputed'), #no suppport for sparse\n",
    "    NuSVC(kernel='linear'),\n",
    "    NuSVC(kernel='poly'),\n",
    "    NuSVC(kernel='rbf'), #default\n",
    "    NuSVC(kernel='sigmoid'),\n",
    "    #NuSVC(kernel='precomputed'), #no suppport for sparse\n",
    "]"
   ]
  },
  {
   "cell_type": "code",
   "execution_count": null,
   "metadata": {},
   "outputs": [],
   "source": [
    "for i, clf in enumerate(classifierSVMs):\n",
    "    c = clf.fit(X_train, y_train)\n",
    "    scores = clf.score(X_test, y_test)\n",
    "    print(\"Richtigkeit: %0.3f [%s]\" % (scores.mean(), type(c).__name__))"
   ]
  },
  {
   "cell_type": "markdown",
   "metadata": {},
   "source": [
    "Ensemble Methods (Random Forest Classifier / Voting Classifier)"
   ]
  },
  {
   "cell_type": "code",
   "execution_count": 5,
   "metadata": {},
   "outputs": [],
   "source": [
    "classifierRandomForest = [\n",
    "    RandomForestClassifier(n_estimators=10,max_depth=None), #default\n",
    "    RandomForestClassifier(n_estimators=100,max_depth=None),\n",
    "    RandomForestClassifier(n_estimators=100,max_depth=6),\n",
    "    RandomForestClassifier(n_estimators=10000,max_depth=None),\n",
    "    RandomForestClassifier(n_estimators=10000,max_depth=6)\n",
    "]"
   ]
  },
  {
   "cell_type": "code",
   "execution_count": 6,
   "metadata": {
    "scrolled": true
   },
   "outputs": [
    {
     "name": "stdout",
     "output_type": "stream",
     "text": [
      "Richtigkeit: 0.481 [RandomForestClassifier]\n",
      "Richtigkeit: 0.519 [RandomForestClassifier]\n",
      "Richtigkeit: 0.441 [RandomForestClassifier]\n",
      "Richtigkeit: 0.518 [RandomForestClassifier]\n",
      "Richtigkeit: 0.441 [RandomForestClassifier]\n"
     ]
    }
   ],
   "source": [
    "for i, clf in enumerate(classifierRandomForest):\n",
    "    c = clf.fit(X_train, y_train)\n",
    "    scores = clf.score(X_test, y_test)\n",
    "    print(\"Richtigkeit: %0.3f [%s]\" % (scores.mean(), type(c).__name__))"
   ]
  },
  {
   "cell_type": "code",
   "execution_count": null,
   "metadata": {},
   "outputs": [],
   "source": [
    "clf1 = AdaBoostClassifier(algorithm='SAMME',base_estimator=NuSVC(kernel='linear', probability=True))\n",
    "clf2 = RandomForestClassifier(n_estimators=10750)\n",
    "clf21 = RandomForestClassifier(n_estimators=1000)\n",
    "clf3 = BaggingClassifier(base_estimator=NuSVC(kernel='linear', probability=True))\n",
    "clf4 = GradientBoostingClassifier()\n",
    "\n",
    "classifierVoting = [\n",
    "    VotingClassifier(estimators=[('ab', clf1), ('rf', clf3)], voting='soft'),\n",
    "    VotingClassifier(estimators=[('ab', clf1), ('rf', clf21), ('bc', clf3), ('gb', clf4)], voting='hard'),\n",
    "    VotingClassifier(estimators=[('ab', clf1), ('rf', clf21), ('bc', clf3), ('gb', clf4)], voting='soft'),\n",
    "    VotingClassifier(estimators=[('ab', clf1), ('rf', clf21), ('bc', clf3)], voting='soft'),\n",
    "    VotingClassifier(estimators=[('ab', clf1), ('rf', clf2), ('bc', clf3), ('gb', clf4)], voting='soft')\n",
    "]"
   ]
  },
  {
   "cell_type": "code",
   "execution_count": null,
   "metadata": {},
   "outputs": [],
   "source": [
    "for i, clf in enumerate(classifierVoting):\n",
    "    c = clf.fit(X_train, y_train)\n",
    "    scores = clf.score(X_test, y_test)\n",
    "    print(\"Richtigkeit: %0.3f [%s]\" % (scores.mean(), type(c).__name__))"
   ]
  },
  {
   "cell_type": "markdown",
   "metadata": {},
   "source": [
    "Ergebnisse"
   ]
  },
  {
   "cell_type": "code",
   "execution_count": null,
   "metadata": {},
   "outputs": [],
   "source": [
    "clf_predict = VotingClassifier(estimators=[('ab', clf1), ('rf', clf21), ('bc', clf3)], voting='soft')\n",
    "\n",
    "classifierResult = [\n",
    "    NuSVC(kernel='linear'),\n",
    "    RandomForestClassifier(n_estimators=10750),\n",
    "    clf_predict\n",
    "]"
   ]
  },
  {
   "cell_type": "code",
   "execution_count": null,
   "metadata": {},
   "outputs": [],
   "source": [
    "# from scikit-learn\n",
    "def plot_confusion_matrix(cm, classes,\n",
    "                          normalize=False,\n",
    "                          title='Confusion matrix',\n",
    "                          cmap=plt.cm.Blues):\n",
    "    \"\"\"\n",
    "    This function prints and plots the confusion matrix.\n",
    "    Normalization can be applied by setting `normalize=True`.\n",
    "    \"\"\"\n",
    "    if normalize:\n",
    "        cm = cm.astype('float') / cm.sum(axis=1)[:, np.newaxis]\n",
    "        #print(\"Normalized confusion matrix\")\n",
    "    #else:\n",
    "        #print('Confusion matrix, without normalization')\n",
    "\n",
    "    #print(cm)\n",
    "    \n",
    "    plt.imshow(cm, interpolation='nearest', cmap=cmap)\n",
    "    plt.title(title)\n",
    "    plt.colorbar()\n",
    "    tick_marks = np.arange(len(classes))\n",
    "    plt.xticks(tick_marks, classes, rotation=45)\n",
    "    plt.yticks(tick_marks, classes)\n",
    "\n",
    "    fmt = '.2f' if normalize else 'd'\n",
    "    thresh = cm.max() / 2.\n",
    "    for i, j in itertools.product(range(cm.shape[0]), range(cm.shape[1])):\n",
    "        plt.text(j, i, format(cm[i, j], fmt),\n",
    "                 horizontalalignment=\"center\",\n",
    "                 color=\"white\" if cm[i, j] > thresh else \"black\")\n",
    "\n",
    "    plt.tight_layout()\n",
    "    plt.ylabel('True label')\n",
    "    plt.xlabel('Predicted label')"
   ]
  },
  {
   "cell_type": "code",
   "execution_count": null,
   "metadata": {},
   "outputs": [],
   "source": [
    "for i, clf in enumerate(classifierResult):\n",
    "    c = clf.fit(X_train, y_train)\n",
    "    y_predict = clf.predict(X_test)\n",
    "    accuracy_number = accuracy_score(y_test, y_predict, normalize=False)\n",
    "    accuracy_percent = accuracy_score(y_test, y_predict)\n",
    "    \n",
    "    class_names = ('Unentschieden', 'SiegerHeim', 'SiegerAuswärts')\n",
    "    \n",
    "    # Compute confusion matrix\n",
    "    cnf_matrix = confusion_matrix(y_test, y_predict)\n",
    "    np.set_printoptions(precision=2)\n",
    "\n",
    "    # Plot non-normalized confusion matrix\n",
    "    plt.figure()\n",
    "    plot_confusion_matrix(cnf_matrix, classes=class_names,\n",
    "                          title='Confusion matrix, without normalization')\n",
    "\n",
    "    # Plot normalized confusion matrix\n",
    "    plt.figure()\n",
    "    plot_confusion_matrix(cnf_matrix, classes=class_names, normalize=True,\n",
    "                          title='Normalized confusion matrix')\n",
    "    \n",
    "    print(\"Richtigkeit: %0.3f (%d) [%s]\" % (accuracy_percent, accuracy_number, type(c).__name__))\n",
    "    \n",
    "    plt.show()"
   ]
  },
  {
   "cell_type": "markdown",
   "metadata": {},
   "source": [
    "# WM 2018 KO-Runde"
   ]
  },
  {
   "cell_type": "code",
   "execution_count": null,
   "metadata": {},
   "outputs": [],
   "source": [
    "fifa_wm_ko = pd.read_csv(\"data/data_complex_test.csv\", encoding='utf8', dtype=types, index_col=None, header=None)\n",
    "\n",
    "feature_wm_ko = fifa_wm_ko.drop([0,21515], axis=1).values\n",
    "target_wm_ko = fifa_wm_ko[21515].values\n",
    "\n",
    "feature_wm_ko = sp.sparse.csr_matrix(feature_wm_ko)"
   ]
  },
  {
   "cell_type": "code",
   "execution_count": null,
   "metadata": {},
   "outputs": [],
   "source": [
    "fifa_wm_ko.head()"
   ]
  },
  {
   "cell_type": "code",
   "execution_count": null,
   "metadata": {},
   "outputs": [],
   "source": [
    "wm_predict = clf_predict.predict(feature_wm_ko)\n",
    "\n",
    "accuracy_number = accuracy_score(target_wm_ko, wm_predict, normalize=False)\n",
    "accuracy_percent = accuracy_score(target_wm_ko, wm_predict)\n",
    "print(\"Richtigkeit: %0.3f (%d) [%s]\" % (accuracy_percent, accuracy_number, type(c).__name__))"
   ]
  }
 ],
 "metadata": {
  "kernelspec": {
   "display_name": "Python 3",
   "language": "python",
   "name": "python3"
  },
  "language_info": {
   "codemirror_mode": {
    "name": "ipython",
    "version": 3
   },
   "file_extension": ".py",
   "mimetype": "text/x-python",
   "name": "python",
   "nbconvert_exporter": "python",
   "pygments_lexer": "ipython3",
   "version": "3.6.4"
  }
 },
 "nbformat": 4,
 "nbformat_minor": 2
}
