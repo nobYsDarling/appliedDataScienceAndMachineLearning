{
 "cells": [
  {
   "cell_type": "code",
   "execution_count": 1,
   "metadata": {},
   "outputs": [
    {
     "data": {
      "text/plain": [
       "'0.20.3'"
      ]
     },
     "execution_count": 1,
     "metadata": {},
     "output_type": "execute_result"
    }
   ],
   "source": [
    "import pandas as pd\n",
    "pd.__version__"
   ]
  },
  {
   "cell_type": "code",
   "execution_count": 2,
   "metadata": {},
   "outputs": [
    {
     "data": {
      "text/html": [
       "<div>\n",
       "<style>\n",
       "    .dataframe thead tr:only-child th {\n",
       "        text-align: right;\n",
       "    }\n",
       "\n",
       "    .dataframe thead th {\n",
       "        text-align: left;\n",
       "    }\n",
       "\n",
       "    .dataframe tbody tr th {\n",
       "        vertical-align: top;\n",
       "    }\n",
       "</style>\n",
       "<table border=\"1\" class=\"dataframe\">\n",
       "  <thead>\n",
       "    <tr style=\"text-align: right;\">\n",
       "      <th></th>\n",
       "      <th>ID</th>\n",
       "      <th>ID_</th>\n",
       "      <th>Year</th>\n",
       "      <th>Season</th>\n",
       "      <th>League</th>\n",
       "      <th>Country</th>\n",
       "      <th>Result</th>\n",
       "      <th>Spieler_X1</th>\n",
       "      <th>Spieler_X2</th>\n",
       "      <th>Spieler_X3</th>\n",
       "      <th>...</th>\n",
       "      <th>Spieler_Y2</th>\n",
       "      <th>Spieler_Y3</th>\n",
       "      <th>Spieler_Y4</th>\n",
       "      <th>Spieler_Y5</th>\n",
       "      <th>Spieler_Y6</th>\n",
       "      <th>Spieler_Y7</th>\n",
       "      <th>Spieler_Y8</th>\n",
       "      <th>Spieler_Y9</th>\n",
       "      <th>Spieler_Y10</th>\n",
       "      <th>Spieler_Y11</th>\n",
       "    </tr>\n",
       "  </thead>\n",
       "  <tbody>\n",
       "    <tr>\n",
       "      <th>391</th>\n",
       "      <td>327</td>\n",
       "      <td>1441376</td>\n",
       "      <td>2012-2013</td>\n",
       "      <td>20.05.2013</td>\n",
       "      <td>All Boys</td>\n",
       "      <td>San Lorenzo</td>\n",
       "      <td>0:3</td>\n",
       "      <td>Nicolás Cambiasso</td>\n",
       "      <td>Hernán Grana</td>\n",
       "      <td>Carlos Soto</td>\n",
       "      <td>...</td>\n",
       "      <td>Gonzalo Prósperi</td>\n",
       "      <td>Santiago Gentiletti</td>\n",
       "      <td>Walter Kannemann</td>\n",
       "      <td>Juan Mercier</td>\n",
       "      <td>Julio Buffarini</td>\n",
       "      <td>Enzo Kalinski</td>\n",
       "      <td>Pablo Alvarado</td>\n",
       "      <td>Ignacio Piatti</td>\n",
       "      <td>Gonzalo Verón</td>\n",
       "      <td>Ángel Correa</td>\n",
       "    </tr>\n",
       "    <tr>\n",
       "      <th>2022</th>\n",
       "      <td>318</td>\n",
       "      <td>8291020</td>\n",
       "      <td>2016-2017</td>\n",
       "      <td>29.04.2017</td>\n",
       "      <td>Huracán</td>\n",
       "      <td>Newells Old Boys</td>\n",
       "      <td>0:1</td>\n",
       "      <td>Marcos Díaz</td>\n",
       "      <td>Federico Mancinelli</td>\n",
       "      <td>Nicolás Romat</td>\n",
       "      <td>...</td>\n",
       "      <td>Néstor Moiraghi</td>\n",
       "      <td>José San Román</td>\n",
       "      <td>Sebastián Domínguez</td>\n",
       "      <td>Juan Sills</td>\n",
       "      <td>Nehuén Paz</td>\n",
       "      <td>Mauro Fórmica</td>\n",
       "      <td>Maxi Rodriguez</td>\n",
       "      <td>Joel Amoroso</td>\n",
       "      <td>Facundo Quignón</td>\n",
       "      <td>Ignacio Scocco</td>\n",
       "    </tr>\n",
       "    <tr>\n",
       "      <th>4102</th>\n",
       "      <td>110</td>\n",
       "      <td>2204103</td>\n",
       "      <td>2013-2014</td>\n",
       "      <td>26.07.2014</td>\n",
       "      <td>Santos FC</td>\n",
       "      <td>Chapecoense</td>\n",
       "      <td>3:0</td>\n",
       "      <td>Aranha</td>\n",
       "      <td>Bruno Uvini</td>\n",
       "      <td>David Braz</td>\n",
       "      <td>...</td>\n",
       "      <td>Fabiano</td>\n",
       "      <td>Jailton</td>\n",
       "      <td>Rafael Lima</td>\n",
       "      <td>Rodrigo Biro</td>\n",
       "      <td>Camilo</td>\n",
       "      <td>Dedé</td>\n",
       "      <td>Ricardo Conceição</td>\n",
       "      <td>Wanderson</td>\n",
       "      <td>Neném</td>\n",
       "      <td>Bruno Rangel</td>\n",
       "    </tr>\n",
       "  </tbody>\n",
       "</table>\n",
       "<p>3 rows × 29 columns</p>\n",
       "</div>"
      ],
      "text/plain": [
       "       ID      ID_       Year      Season     League           Country Result  \\\n",
       "391   327  1441376  2012-2013  20.05.2013   All Boys       San Lorenzo    0:3   \n",
       "2022  318  8291020  2016-2017  29.04.2017    Huracán  Newells Old Boys    0:1   \n",
       "4102  110  2204103  2013-2014  26.07.2014  Santos FC       Chapecoense    3:0   \n",
       "\n",
       "             Spieler_X1           Spieler_X2     Spieler_X3       ...        \\\n",
       "391   Nicolás Cambiasso         Hernán Grana    Carlos Soto       ...         \n",
       "2022        Marcos Díaz  Federico Mancinelli  Nicolás Romat       ...         \n",
       "4102             Aranha          Bruno Uvini     David Braz       ...         \n",
       "\n",
       "            Spieler_Y2           Spieler_Y3           Spieler_Y4  \\\n",
       "391   Gonzalo Prósperi  Santiago Gentiletti     Walter Kannemann   \n",
       "2022   Néstor Moiraghi       José San Román  Sebastián Domínguez   \n",
       "4102           Fabiano              Jailton          Rafael Lima   \n",
       "\n",
       "        Spieler_Y5       Spieler_Y6     Spieler_Y7         Spieler_Y8  \\\n",
       "391   Juan Mercier  Julio Buffarini  Enzo Kalinski     Pablo Alvarado   \n",
       "2022    Juan Sills       Nehuén Paz  Mauro Fórmica     Maxi Rodriguez   \n",
       "4102  Rodrigo Biro           Camilo           Dedé  Ricardo Conceição   \n",
       "\n",
       "          Spieler_Y9      Spieler_Y10     Spieler_Y11  \n",
       "391   Ignacio Piatti    Gonzalo Verón    Ángel Correa  \n",
       "2022    Joel Amoroso  Facundo Quignón  Ignacio Scocco  \n",
       "4102       Wanderson            Neném    Bruno Rangel  \n",
       "\n",
       "[3 rows x 29 columns]"
      ]
     },
     "execution_count": 2,
     "metadata": {},
     "output_type": "execute_result"
    }
   ],
   "source": [
    "columns = ['ID','ID_','Year','Season','League','Country','Result'] + ['Spieler_X'+str(x) for x in range(1,12)]+['Spieler_Y'+str(x) for x in range(1,12)]\n",
    "#print(columns)\n",
    "gamedata = pd.read_csv(\"C://Users//lasse//Desktop/gamestotal.csv\", names=columns,encoding ='utf8')\n",
    "gamedata.sample(3)"
   ]
  },
  {
   "cell_type": "code",
   "execution_count": 3,
   "metadata": {
    "collapsed": true
   },
   "outputs": [],
   "source": [
    "def rule(x):\n",
    "    if int(x[0]) > int(x[2]):\n",
    "        return 0\n",
    "    if int(x[0]) < int(x[2]):\n",
    "        return 1\n",
    "    return 2\n",
    "    \n",
    "target=[rule(x) for x in gamedata['Result'].tolist()]"
   ]
  },
  {
   "cell_type": "code",
   "execution_count": 4,
   "metadata": {
    "collapsed": true
   },
   "outputs": [],
   "source": [
    "feature = gamedata.drop(['ID','ID_','Year','Season','League','Country','Result'],axis=1)"
   ]
  },
  {
   "cell_type": "code",
   "execution_count": 5,
   "metadata": {},
   "outputs": [
    {
     "data": {
      "text/html": [
       "<div>\n",
       "<style>\n",
       "    .dataframe thead tr:only-child th {\n",
       "        text-align: right;\n",
       "    }\n",
       "\n",
       "    .dataframe thead th {\n",
       "        text-align: left;\n",
       "    }\n",
       "\n",
       "    .dataframe tbody tr th {\n",
       "        vertical-align: top;\n",
       "    }\n",
       "</style>\n",
       "<table border=\"1\" class=\"dataframe\">\n",
       "  <thead>\n",
       "    <tr style=\"text-align: right;\">\n",
       "      <th></th>\n",
       "      <th>Spieler_X1</th>\n",
       "      <th>Spieler_X2</th>\n",
       "      <th>Spieler_X3</th>\n",
       "      <th>Spieler_X4</th>\n",
       "      <th>Spieler_X5</th>\n",
       "      <th>Spieler_X6</th>\n",
       "      <th>Spieler_X7</th>\n",
       "      <th>Spieler_X8</th>\n",
       "      <th>Spieler_X9</th>\n",
       "      <th>Spieler_X10</th>\n",
       "      <th>...</th>\n",
       "      <th>Spieler_Y2</th>\n",
       "      <th>Spieler_Y3</th>\n",
       "      <th>Spieler_Y4</th>\n",
       "      <th>Spieler_Y5</th>\n",
       "      <th>Spieler_Y6</th>\n",
       "      <th>Spieler_Y7</th>\n",
       "      <th>Spieler_Y8</th>\n",
       "      <th>Spieler_Y9</th>\n",
       "      <th>Spieler_Y10</th>\n",
       "      <th>Spieler_Y11</th>\n",
       "    </tr>\n",
       "  </thead>\n",
       "  <tbody>\n",
       "    <tr>\n",
       "      <th>0</th>\n",
       "      <td>Felipe Ovono</td>\n",
       "      <td>Rui</td>\n",
       "      <td>Diosdado Mbele</td>\n",
       "      <td>Sipo</td>\n",
       "      <td>Emilio NSue</td>\n",
       "      <td>Iván Zarandona</td>\n",
       "      <td>Pablo Ganet</td>\n",
       "      <td>Randy</td>\n",
       "      <td>Balboa</td>\n",
       "      <td>Kike Seno</td>\n",
       "      <td>...</td>\n",
       "      <td>Francis NGanga</td>\n",
       "      <td>Boris Moubhio</td>\n",
       "      <td>Arnold Bouka Moutou</td>\n",
       "      <td>Prince Oniangué</td>\n",
       "      <td>Marvin Baudry</td>\n",
       "      <td>Delvin NDinga</td>\n",
       "      <td>Césaire Gandzé</td>\n",
       "      <td>Babélé Sagesse</td>\n",
       "      <td>Férébory Doré</td>\n",
       "      <td>Thievy Bifouma</td>\n",
       "    </tr>\n",
       "    <tr>\n",
       "      <th>1</th>\n",
       "      <td>Germain Sanou</td>\n",
       "      <td>Steeve Yago</td>\n",
       "      <td>Bakary Koné</td>\n",
       "      <td>Narcisse Bambara</td>\n",
       "      <td>Mohamed Koffi</td>\n",
       "      <td>Djakaridja Koné</td>\n",
       "      <td>Alain Traoré</td>\n",
       "      <td>Jonathan Pitroipa</td>\n",
       "      <td>Charles Kaboré</td>\n",
       "      <td>Bertrand Traoré</td>\n",
       "      <td>...</td>\n",
       "      <td>Yrondu Musavu-King</td>\n",
       "      <td>Bruno Écuélé</td>\n",
       "      <td>Johann Obiang</td>\n",
       "      <td>Lloyd Palun</td>\n",
       "      <td>Frédéric Bulot</td>\n",
       "      <td>Levy Madinda</td>\n",
       "      <td>André Biyogo Poko</td>\n",
       "      <td>Malick Evouna</td>\n",
       "      <td>Pierre-Emerick Aubameyang</td>\n",
       "      <td>Didier Ndong</td>\n",
       "    </tr>\n",
       "    <tr>\n",
       "      <th>2</th>\n",
       "      <td>Felipe Ovono</td>\n",
       "      <td>Rui</td>\n",
       "      <td>Diosdado Mbele</td>\n",
       "      <td>Sipo</td>\n",
       "      <td>Emilio NSue</td>\n",
       "      <td>Doualla</td>\n",
       "      <td>Iván Zarandona</td>\n",
       "      <td>Randy</td>\n",
       "      <td>Balboa</td>\n",
       "      <td>Kike Seno</td>\n",
       "      <td>...</td>\n",
       "      <td>Steeve Yago</td>\n",
       "      <td>Bakary Koné</td>\n",
       "      <td>Issa Gouo</td>\n",
       "      <td>Mohamed Koffi</td>\n",
       "      <td>Djakaridja Koné</td>\n",
       "      <td>Alain Traoré</td>\n",
       "      <td>Jonathan Pitroipa</td>\n",
       "      <td>Charles Kaboré</td>\n",
       "      <td>Bertrand Traoré</td>\n",
       "      <td>Aristide Bancé</td>\n",
       "    </tr>\n",
       "  </tbody>\n",
       "</table>\n",
       "<p>3 rows × 22 columns</p>\n",
       "</div>"
      ],
      "text/plain": [
       "      Spieler_X1   Spieler_X2      Spieler_X3        Spieler_X4  \\\n",
       "0   Felipe Ovono          Rui  Diosdado Mbele              Sipo   \n",
       "1  Germain Sanou  Steeve Yago     Bakary Koné  Narcisse Bambara   \n",
       "2   Felipe Ovono          Rui  Diosdado Mbele              Sipo   \n",
       "\n",
       "      Spieler_X5       Spieler_X6      Spieler_X7         Spieler_X8  \\\n",
       "0    Emilio NSue   Iván Zarandona     Pablo Ganet              Randy   \n",
       "1  Mohamed Koffi  Djakaridja Koné    Alain Traoré  Jonathan Pitroipa   \n",
       "2    Emilio NSue          Doualla  Iván Zarandona              Randy   \n",
       "\n",
       "       Spieler_X9      Spieler_X10       ...                Spieler_Y2  \\\n",
       "0          Balboa        Kike Seno       ...            Francis NGanga   \n",
       "1  Charles Kaboré  Bertrand Traoré       ...        Yrondu Musavu-King   \n",
       "2          Balboa        Kike Seno       ...               Steeve Yago   \n",
       "\n",
       "      Spieler_Y3           Spieler_Y4       Spieler_Y5       Spieler_Y6  \\\n",
       "0  Boris Moubhio  Arnold Bouka Moutou  Prince Oniangué    Marvin Baudry   \n",
       "1   Bruno Écuélé        Johann Obiang      Lloyd Palun   Frédéric Bulot   \n",
       "2    Bakary Koné            Issa Gouo    Mohamed Koffi  Djakaridja Koné   \n",
       "\n",
       "      Spieler_Y7         Spieler_Y8      Spieler_Y9  \\\n",
       "0  Delvin NDinga     Césaire Gandzé  Babélé Sagesse   \n",
       "1   Levy Madinda  André Biyogo Poko   Malick Evouna   \n",
       "2   Alain Traoré  Jonathan Pitroipa  Charles Kaboré   \n",
       "\n",
       "                 Spieler_Y10     Spieler_Y11  \n",
       "0              Férébory Doré  Thievy Bifouma  \n",
       "1  Pierre-Emerick Aubameyang    Didier Ndong  \n",
       "2            Bertrand Traoré  Aristide Bancé  \n",
       "\n",
       "[3 rows x 22 columns]"
      ]
     },
     "execution_count": 5,
     "metadata": {},
     "output_type": "execute_result"
    }
   ],
   "source": [
    "feature.head(3)"
   ]
  },
  {
   "cell_type": "code",
   "execution_count": 6,
   "metadata": {
    "scrolled": true
   },
   "outputs": [
    {
     "ename": "NameError",
     "evalue": "name 'player_names' is not defined",
     "output_type": "error",
     "traceback": [
      "\u001b[1;31m---------------------------------------------------------------------------\u001b[0m",
      "\u001b[1;31mNameError\u001b[0m                                 Traceback (most recent call last)",
      "\u001b[1;32m<ipython-input-6-27b1114bc3c2>\u001b[0m in \u001b[0;36m<module>\u001b[1;34m()\u001b[0m\n\u001b[1;32m----> 1\u001b[1;33m \u001b[0mdf\u001b[0m \u001b[1;33m=\u001b[0m \u001b[0mpd\u001b[0m\u001b[1;33m.\u001b[0m\u001b[0mDataFrame\u001b[0m\u001b[1;33m(\u001b[0m\u001b[0mindex\u001b[0m\u001b[1;33m=\u001b[0m\u001b[0mrange\u001b[0m\u001b[1;33m(\u001b[0m\u001b[1;36m5620\u001b[0m\u001b[1;33m)\u001b[0m\u001b[1;33m,\u001b[0m \u001b[0mcolumns\u001b[0m\u001b[1;33m=\u001b[0m\u001b[1;33m[\u001b[0m\u001b[0mx\u001b[0m \u001b[1;33m+\u001b[0m\u001b[0mstr\u001b[0m\u001b[1;33m(\u001b[0m\u001b[1;34m\"_x\"\u001b[0m\u001b[1;33m)\u001b[0m\u001b[1;32mfor\u001b[0m \u001b[0mx\u001b[0m \u001b[1;32min\u001b[0m \u001b[0mlist\u001b[0m\u001b[1;33m(\u001b[0m\u001b[0mplayer_names\u001b[0m\u001b[1;33m)\u001b[0m\u001b[1;33m]\u001b[0m\u001b[1;33m+\u001b[0m\u001b[1;33m[\u001b[0m\u001b[0mx\u001b[0m \u001b[1;33m+\u001b[0m \u001b[0mstr\u001b[0m\u001b[1;33m(\u001b[0m\u001b[1;34m\"_y\"\u001b[0m\u001b[1;33m)\u001b[0m\u001b[1;32mfor\u001b[0m \u001b[0mx\u001b[0m \u001b[1;32min\u001b[0m \u001b[0mlist\u001b[0m\u001b[1;33m(\u001b[0m\u001b[0mplayer_names\u001b[0m\u001b[1;33m)\u001b[0m\u001b[1;33m]\u001b[0m\u001b[1;33m)\u001b[0m\u001b[1;33m\u001b[0m\u001b[0m\n\u001b[0m",
      "\u001b[1;31mNameError\u001b[0m: name 'player_names' is not defined"
     ]
    }
   ],
   "source": [
    "df = pd.DataFrame(index=range(5620), columns=[x +str(\"_x\")for x in list(player_names)]+[x + str(\"_y\")for x in list(player_names)])"
   ]
  },
  {
   "cell_type": "code",
   "execution_count": null,
   "metadata": {},
   "outputs": [],
   "source": [
    "df = df.fillna(0)"
   ]
  },
  {
   "cell_type": "code",
   "execution_count": null,
   "metadata": {},
   "outputs": [],
   "source": [
    "df.head()"
   ]
  },
  {
   "cell_type": "code",
   "execution_count": null,
   "metadata": {
    "collapsed": true
   },
   "outputs": [],
   "source": [
    "for c in feature.iterrows():\n",
    "    \n",
    "    for x in list(c[1][:11]):\n",
    "        df.loc[c[0],x+\"_x\"] = 1 \n",
    "    \n",
    "     \n",
    "    for x in list(c[1][11:]):\n",
    "        df.loc[c[0],x+\"_y\"] = 1    \n",
    "    print(c[0])\n",
    "df.head()"
   ]
  },
  {
   "cell_type": "code",
   "execution_count": null,
   "metadata": {
    "collapsed": true
   },
   "outputs": [],
   "source": [
    "inx =0\n",
    "for i in range(8274):\n",
    "    if df.loc[34][i] ==1:\n",
    "        print(inx)\n",
    "        inx=inx+1"
   ]
  },
  {
   "cell_type": "code",
   "execution_count": null,
   "metadata": {
    "collapsed": true
   },
   "outputs": [],
   "source": [
    "from sklearn import tree"
   ]
  },
  {
   "cell_type": "code",
   "execution_count": null,
   "metadata": {},
   "outputs": [],
   "source": [
    "from sklearn import model_selection\n",
    "x_train ,x_test,y_train,y_test = model_selection.train_test_split(df,target,train_size=0.4)"
   ]
  },
  {
   "cell_type": "code",
   "execution_count": null,
   "metadata": {},
   "outputs": [],
   "source": [
    "clf = tree.DecisionTreeClassifier()\n",
    "clf = clf.fit(x_train,y_train)"
   ]
  },
  {
   "cell_type": "code",
   "execution_count": null,
   "metadata": {},
   "outputs": [],
   "source": [
    "clf.score(x_test,y_test)"
   ]
  },
  {
   "cell_type": "code",
   "execution_count": null,
   "metadata": {
    "collapsed": true
   },
   "outputs": [],
   "source": [
    "from sklearn.naive_bayes import GaussianNB"
   ]
  },
  {
   "cell_type": "code",
   "execution_count": null,
   "metadata": {},
   "outputs": [],
   "source": [
    "clf = GaussianNB()\n",
    "clf = clf.fit(x_train,y_train)\n",
    "clf.score(x_test,y_test)"
   ]
  },
  {
   "cell_type": "code",
   "execution_count": null,
   "metadata": {
    "collapsed": true
   },
   "outputs": [],
   "source": [
    "from sklearn.model_selection import train_test_split\n",
    "\n",
    "from sklearn.preprocessing import StandardScaler\n",
    "\n",
    "from sklearn.datasets import make_moons, make_circles, make_classification\n",
    "\n",
    "from sklearn.neural_network import MLPClassifier\n",
    "\n",
    "from sklearn.neighbors import KNeighborsClassifier\n",
    "\n",
    "from sklearn.svm import SVC\n",
    "\n",
    "from sklearn.gaussian_process import GaussianProcessClassifier\n",
    "\n",
    "from sklearn.gaussian_process.kernels import RBF\n",
    "\n",
    "from sklearn.tree import DecisionTreeClassifier\n",
    "\n",
    "from sklearn.ensemble import RandomForestClassifier, AdaBoostClassifier\n",
    "\n",
    "from sklearn.naive_bayes import GaussianNB\n",
    "\n",
    "from sklearn.discriminant_analysis import QuadraticDiscriminantAnalysis"
   ]
  },
  {
   "cell_type": "code",
   "execution_count": null,
   "metadata": {},
   "outputs": [],
   "source": [
    "classifiers = [\n",
    "\n",
    "    KNeighborsClassifier(3),\n",
    "\n",
    "    #SVC(kernel=\"linear\", C=0.025),\n",
    "\n",
    "    #SVC(gamma=2, C=1),\n",
    "\n",
    "   # GaussianProcessClassifier(1.0 * RBF(1.0)),\n",
    "\n",
    "   # DecisionTreeClassifier(),\n",
    "\n",
    "   # RandomForestClassifier(max_depth=5, n_estimators=10, max_features=1),\n",
    "\n",
    "   # MLPClassifier(alpha=0),\n",
    "\n",
    "   # AdaBoostClassifier(),\n",
    "\n",
    "   # GaussianNB(),\n",
    "\n",
    "   # QuadraticDiscriminantAnalysis()\n",
    "\n",
    "]\n",
    "\n",
    "\n",
    "\n",
    "result = []\n",
    "\n",
    "for i, clf in enumerate(classifiers):\n",
    "\n",
    "    c = clf.fit(x_train, y_train)\n",
    "\n",
    "\n",
    "\n",
    "    l = []\n",
    "\n",
    "    #for i, p in enumerate(clf.predict(x_test)):\n",
    "\n",
    "    #    l.append(y_test[i] == p)\n",
    "\n",
    "        #print(p)\n",
    "\n",
    "        #print(y_test[i])\n",
    "\n",
    "    #print(l)\n",
    "\n",
    "\n",
    "\n",
    "    score = clf.score(x_test, y_test)\n",
    "\n",
    "    result.append('%s -> %f' % (type(c).__name__, score))\n",
    "    print('%s -> %f' % (type(c).__name__, score))\n",
    "\n",
    "\n",
    "#print(result)"
   ]
  },
  {
   "cell_type": "code",
   "execution_count": null,
   "metadata": {
    "collapsed": true
   },
   "outputs": [],
   "source": [
    "print('Hallo')"
   ]
  },
  {
   "cell_type": "code",
   "execution_count": null,
   "metadata": {
    "collapsed": true
   },
   "outputs": [],
   "source": []
  }
 ],
 "metadata": {
  "kernelspec": {
   "display_name": "Python 3",
   "language": "python",
   "name": "python3"
  },
  "language_info": {
   "codemirror_mode": {
    "name": "ipython",
    "version": 3
   },
   "file_extension": ".py",
   "mimetype": "text/x-python",
   "name": "python",
   "nbconvert_exporter": "python",
   "pygments_lexer": "ipython3",
   "version": "3.6.3"
  }
 },
 "nbformat": 4,
 "nbformat_minor": 2
}
